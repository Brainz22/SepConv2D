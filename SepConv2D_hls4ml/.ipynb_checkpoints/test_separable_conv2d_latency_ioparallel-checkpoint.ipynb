{
 "cells": [
  {
   "attachments": {},
   "cell_type": "markdown",
   "id": "c74916fd-e541-44b7-81dc-7fbb987d5141",
   "metadata": {
    "slideshow": {
     "slide_type": ""
    },
    "tags": []
   },
   "source": [
    "# Test `separable_conv2d`, `depthwise_conv2d`, `pointwise_conv2d` (`Latency`, `io_parallel`)"
   ]
  },
  {
   "attachments": {},
   "cell_type": "markdown",
   "id": "41aabfa4-3c30-4ae9-868c-2faae576ed54",
   "metadata": {},
   "source": [
    "Please test it with the [sepconv-latency-ioparallel](https://github.com/fastmachinelearning/hls4ml/tree/sepconv-latency-ioparallel) branch."
   ]
  },
  {
   "attachments": {},
   "cell_type": "markdown",
   "id": "69d694a0-8942-41bf-ad4a-c65f08e9aabe",
   "metadata": {
    "slideshow": {
     "slide_type": ""
    },
    "tags": []
   },
   "source": [
    "## Libraries"
   ]
  },
  {
   "cell_type": "code",
   "execution_count": 1,
   "id": "fa5b3422-99a8-460a-9771-72bffd11f512",
   "metadata": {},
   "outputs": [],
   "source": [
    "#\n",
    "# Choose the layer to test\n",
    "#\n",
    "LAYER = 'depthwise_conv2d' # \n",
    "#LAYER = 'pointwise_conv2d'\n",
    "#LAYER = 'separable_conv2d' # uses both depthwise and pointwise\n",
    "\n",
    "RUN_HLS = True\n",
    "IO_TYPE = 'io_parallel'\n",
    "STRATEGY = 'Latency'\n",
    "BACKEND = 'Vivado'\n",
    "\n",
    "H = 5    # Input height\n",
    "W = 6    # Input width\n",
    "Din = 1  # Input # of channels\n",
    "Fh = 3   # Kernel height\n",
    "Fw = 3   # Kernel width\n",
    "Dout = 2 # Kernel # of filters\n",
    "\n",
    "B = 1   # Test set batch size\n",
    "\n",
    "FXD_W = 12 # Fixed-point precision, word bit width\n",
    "FXD_I = 11 # Fixed-point precision, integer-part bit width"
   ]
  },
  {
   "cell_type": "code",
   "execution_count": 2,
   "id": "081b218c-bce1-4f1f-9259-cee4e46332bd",
   "metadata": {},
   "outputs": [],
   "source": [
    "# Disable some console warnings on the ASIC-group servers\n",
    "import os\n",
    "os.environ['TF_XLA_FLAGS'] = '--tf_xla_enable_xla_devices'\n",
    "os.environ['TF_CPP_MIN_LOG_LEVEL'] = '3'"
   ]
  },
  {
   "cell_type": "code",
   "execution_count": 3,
   "id": "41c5fd7a",
   "metadata": {},
   "outputs": [],
   "source": [
    "os.environ['PATH'] = '/home/xilinx/Vivado/2019.1/bin:' + os.environ['PATH'] "
   ]
  },
  {
   "cell_type": "code",
   "execution_count": 4,
   "id": "c970363e-0917-4851-9f44-012363f4593c",
   "metadata": {},
   "outputs": [
    {
     "data": {
      "text/plain": [
       "'/home/xilinx/Vivado/2019.1/bin:/home/users/russelld/micromamba/envs/sepConv2d/bin:/home/users/russelld/micromamba/condabin:/home/users/russelld/.vscode-server/bin/b3e4e68a0bc097f0ae7907b217c1119af9e03435/bin/remote-cli:/usr/local/bin:/usr/bin:/usr/local/sbin:/usr/sbin:/opt/puppetlabs/bin'"
      ]
     },
     "execution_count": 4,
     "metadata": {},
     "output_type": "execute_result"
    }
   ],
   "source": [
    "os.environ['PATH']"
   ]
  },
  {
   "cell_type": "code",
   "execution_count": 5,
   "id": "95b021ba",
   "metadata": {},
   "outputs": [],
   "source": [
    "#os.environ['XILINX_VIVADO']"
   ]
  },
  {
   "cell_type": "code",
   "execution_count": 6,
   "id": "fd30aa86",
   "metadata": {},
   "outputs": [],
   "source": [
    "#os.environ['XILINX_VIVADO']"
   ]
  },
  {
   "cell_type": "code",
   "execution_count": 7,
   "id": "6068ef26",
   "metadata": {},
   "outputs": [],
   "source": [
    "#!ls /home/xilinx/Vivado/2021.2/bin"
   ]
  },
  {
   "cell_type": "code",
   "execution_count": 8,
   "id": "82f39547",
   "metadata": {},
   "outputs": [
    {
     "name": "stdout",
     "output_type": "stream",
     "text": [
      "Requirement already satisfied: PyYAML in /home/users/russelld/micromamba/envs/sepConv2d/lib/python3.10/site-packages (6.0.1)\n",
      "\u001b[33mWARNING: There was an error checking the latest version of pip.\u001b[0m\u001b[33m\n",
      "\u001b[0m"
     ]
    }
   ],
   "source": [
    "!pip install PyYAML"
   ]
  },
  {
   "cell_type": "code",
   "execution_count": null,
   "id": "48331da2",
   "metadata": {},
   "outputs": [],
   "source": []
  },
  {
   "cell_type": "code",
   "execution_count": 9,
   "id": "2ff03fd9-4e69-4d76-9579-dc5b77cc256d",
   "metadata": {},
   "outputs": [],
   "source": [
    "#import matplotlib.pyplot as plt\n",
    "#import pyaml\n",
    "\n",
    "import tensorflow as tf\n",
    "from tensorflow.keras import datasets, layers, models\n",
    "\n",
    "from tensorflow import keras\n",
    "from tensorflow.keras.layers import Input\n",
    "from tensorflow.keras.models import Sequential\n",
    "\n",
    "from qkeras import *"
   ]
  },
  {
   "cell_type": "code",
   "execution_count": null,
   "id": "2d9e4c4f",
   "metadata": {},
   "outputs": [],
   "source": []
  },
  {
   "attachments": {},
   "cell_type": "markdown",
   "id": "aea5e7c9-7835-44cd-ab4c-12979590f6ae",
   "metadata": {},
   "source": [
    "## Keras"
   ]
  },
  {
   "attachments": {},
   "cell_type": "markdown",
   "id": "bd8f5b11-13c2-4ab2-83e6-4353458806ff",
   "metadata": {},
   "source": [
    "### Create keras model"
   ]
  },
  {
   "cell_type": "code",
   "execution_count": 10,
   "id": "042b1846-8486-4a73-b8dc-a66d3716bcc5",
   "metadata": {},
   "outputs": [],
   "source": [
    "def CreateModel(layer, input_shape, kernel_size, filters):\n",
    "    # # Generate the same random values\n",
    "    # import random\n",
    "    # import numpy as np\n",
    "    # import tensorflow as tf\n",
    "\n",
    "    # random.seed(42)\n",
    "    # np.random.seed(42)\n",
    "    # tf.random.set_seed(42)\n",
    "\n",
    "    x_in = Input(input_shape, name='input_1')\n",
    "    if layer == 'depthwise_conv2d':\n",
    "        x_out = DepthwiseConv2D(\n",
    "            kernel_size=kernel_size,\n",
    "            use_bias=False,\n",
    "            depthwise_initializer=tf.keras.initializers.Ones(), # makes debugging easy\n",
    "            bias_initializer=tf.keras.initializers.Zeros(), # makes debugging easy\n",
    "            name='depthwise_conv2d'\n",
    "        )(x_in)\n",
    "    elif layer == 'pointwise_conv2d':\n",
    "        x_out = Conv2D(\n",
    "            filters=filters,\n",
    "            kernel_size=(1,1),\n",
    "            use_bias=False,\n",
    "            kernel_initializer=tf.keras.initializers.Ones(), # makes debugging easy\n",
    "            bias_initializer=tf.keras.initializers.Zeros(), # makes debugging easy\n",
    "            name='pointwise_conv2d'\n",
    "        )(x_in)\n",
    "    else:\n",
    "        x_out = SeparableConv2D(\n",
    "            filters=filters,\n",
    "            kernel_size=kernel_size,\n",
    "            use_bias=False,\n",
    "            depthwise_initializer=tf.keras.initializers.Ones(), # makes debugging easy\n",
    "            pointwise_initializer=tf.keras.initializers.Ones(), # makes debugging easy\n",
    "            name = 'separable_conv2d'\n",
    "    )(x_in)\n",
    "    model = Model(inputs=x_in, outputs=x_out)\n",
    "    return model"
   ]
  },
  {
   "cell_type": "code",
   "execution_count": 11,
   "id": "787e0e1d-a02d-42ef-87c5-bb0ed7bde87d",
   "metadata": {},
   "outputs": [
    {
     "name": "stdout",
     "output_type": "stream",
     "text": [
      "Model: \"model\"\n",
      "_________________________________________________________________\n",
      " Layer (type)                Output Shape              Param #   \n",
      "=================================================================\n",
      " input_1 (InputLayer)        [(None, 5, 6, 1)]         0         \n",
      "                                                                 \n",
      " depthwise_conv2d (Depthwise  (None, 3, 4, 1)          9         \n",
      " Conv2D)                                                         \n",
      "                                                                 \n",
      "=================================================================\n",
      "Total params: 9\n",
      "Trainable params: 9\n",
      "Non-trainable params: 0\n",
      "_________________________________________________________________\n"
     ]
    }
   ],
   "source": [
    "model = CreateModel(LAYER, input_shape=(H,W,Din), kernel_size=(Fh, Fw), filters=Dout)\n",
    "model.summary()"
   ]
  },
  {
   "attachments": {},
   "cell_type": "markdown",
   "id": "11efcaf2-5b91-4e84-aaee-4d4c85891749",
   "metadata": {},
   "source": [
    "### Show keras weights"
   ]
  },
  {
   "cell_type": "code",
   "execution_count": 12,
   "id": "1d68bd63-f361-41c8-9f7f-418d2fa75d7a",
   "metadata": {},
   "outputs": [
    {
     "name": "stdout",
     "output_type": "stream",
     "text": [
      "Weights 0:\n",
      "(3, 3, 1, 1)\n",
      "[1. 1. 1. 1. 1. 1. 1. 1. 1.]\n",
      "-----------\n"
     ]
    }
   ],
   "source": [
    "# Backup print options\n",
    "bkp_threshold = np.get_printoptions()['threshold']\n",
    "bkp_linewidth = np.get_printoptions()['linewidth']\n",
    "\n",
    "# Set print options\n",
    "np.set_printoptions(threshold=np.inf, linewidth=np.inf)\n",
    "\n",
    "weights = model.get_weights()\n",
    "for i, w in enumerate(weights):\n",
    "    print(f\"Weights {i}:\")\n",
    "    print(w.shape)\n",
    "    print(w.flatten())\n",
    "    print(\"-----------\")\n",
    "\n",
    "# Restore print options\n",
    "np.set_printoptions(threshold=bkp_threshold, linewidth=bkp_linewidth)"
   ]
  },
  {
   "attachments": {},
   "cell_type": "markdown",
   "id": "2f20a8e6-8ef4-4b52-b430-c5e3912f3570",
   "metadata": {},
   "source": [
    "### Show keras model"
   ]
  },
  {
   "cell_type": "code",
   "execution_count": 13,
   "id": "b6fadf99-7199-4a49-bdf5-80da0dc2aa7e",
   "metadata": {},
   "outputs": [
    {
     "data": {
      "image/png": "[encoded data removed]",
      "text/plain": [
       "<IPython.core.display.Image object>"
      ]
     },
     "execution_count": 13,
     "metadata": {},
     "output_type": "execute_result"
    }
   ],
   "source": [
    "from tensorflow.keras.utils import plot_model\n",
    "plot_model(model, to_file='keras_model.png', show_shapes=True, show_layer_names=True, expand_nested=True)#, show_layer_activations=True)"
   ]
  },
  {
   "attachments": {},
   "cell_type": "markdown",
   "id": "58f4c122-5454-471e-a0a1-cb9c490cd2c5",
   "metadata": {},
   "source": [
    "### Run keras model"
   ]
  },
  {
   "cell_type": "code",
   "execution_count": 14,
   "id": "e1d69a59-959d-4a25-8e87-7f75294f5d8a",
   "metadata": {},
   "outputs": [],
   "source": [
    "# Set a seed to have the same input traces on every run\n",
    "np.random.seed(42)\n",
    "\n",
    "toy_data = np.random.rand(B,\n",
    "                          H,\n",
    "                          W,\n",
    "                          Din)\n",
    "\n",
    "for i in range(B):\n",
    "    for h in range(H):\n",
    "        for w in range(W):\n",
    "            for d in range(Din):\n",
    "                toy_data[i][h][w][d] = h + w + d"
   ]
  },
  {
   "cell_type": "code",
   "execution_count": 15,
   "id": "39ffe386-299d-4ec4-842e-986931fcf99c",
   "metadata": {},
   "outputs": [
    {
     "name": "stdout",
     "output_type": "stream",
     "text": [
      "[[[[0.]\n",
      "   [1.]\n",
      "   [2.]\n",
      "   [3.]\n",
      "   [4.]\n",
      "   [5.]]\n",
      "\n",
      "  [[1.]\n",
      "   [2.]\n",
      "   [3.]\n",
      "   [4.]\n",
      "   [5.]\n",
      "   [6.]]\n",
      "\n",
      "  [[2.]\n",
      "   [3.]\n",
      "   [4.]\n",
      "   [5.]\n",
      "   [6.]\n",
      "   [7.]]\n",
      "\n",
      "  [[3.]\n",
      "   [4.]\n",
      "   [5.]\n",
      "   [6.]\n",
      "   [7.]\n",
      "   [8.]]\n",
      "\n",
      "  [[4.]\n",
      "   [5.]\n",
      "   [6.]\n",
      "   [7.]\n",
      "   [8.]\n",
      "   [9.]]]]\n"
     ]
    }
   ],
   "source": [
    "# Show inputs\n",
    "print(toy_data)"
   ]
  },
  {
   "cell_type": "code",
   "execution_count": 16,
   "id": "57531c58-e069-402d-aa3b-418616f570a9",
   "metadata": {},
   "outputs": [],
   "source": [
    "# !pip install numpy --upgrade"
   ]
  },
  {
   "cell_type": "code",
   "execution_count": 17,
   "id": "10245281-c053-4950-9bd5-5b1be552dc4e",
   "metadata": {},
   "outputs": [],
   "source": [
    "# !pip install matplotlib"
   ]
  },
  {
   "cell_type": "code",
   "execution_count": 18,
   "id": "89b19812-aa59-4dea-9ec7-84c3cdcc71f1",
   "metadata": {},
   "outputs": [],
   "source": [
    "# import hls4ml.model.profiling"
   ]
  },
  {
   "cell_type": "code",
   "execution_count": 19,
   "id": "fe1e591a-2414-4ad6-a348-cfd9c66f0a26",
   "metadata": {},
   "outputs": [],
   "source": [
    "# Run tracing on a portion of the test set for the Keras model (floating-point precision)\n",
    "# keras_trace = hls4ml.model.profiling.get_ymodel_keras(model, toy_data)"
   ]
  },
  {
   "attachments": {},
   "cell_type": "markdown",
   "id": "01c67209-e3a4-4ffa-b24c-69c8435f447a",
   "metadata": {},
   "source": [
    "### Show keras traces"
   ]
  },
  {
   "cell_type": "code",
   "execution_count": 20,
   "id": "a2e5f673-3155-45b0-889e-ba3494073896",
   "metadata": {},
   "outputs": [],
   "source": [
    "# # Backup print options\n",
    "# bkp_threshold = np.get_printoptions()['threshold']\n",
    "# bkp_linewidth = np.get_printoptions()['linewidth']\n",
    "\n",
    "# # Set print options\n",
    "# np.set_printoptions(threshold=np.inf, linewidth=np.inf)\n",
    "\n",
    "# print('-------')\n",
    "# print('input shape', toy_data.shape)\n",
    "# print('input', toy_data.flatten())\n",
    "\n",
    "# layer_names = [layer.name for layer in model.layers if not isinstance(layer, InputLayer)]\n",
    "# for layer in layer_names:\n",
    "#     print('-------')\n",
    "#     print('{} shape'.format(layer), keras_trace[layer].shape)\n",
    "#     print(layer, keras_trace[layer].flatten())\n",
    "\n",
    "# print('-------')\n",
    "\n",
    "# # Restore print options\n",
    "# np.set_printoptions(threshold=bkp_threshold, linewidth=bkp_linewidth)"
   ]
  },
  {
   "attachments": {},
   "cell_type": "markdown",
   "id": "45bb190e-45f6-4b5c-a487-7537184ac8d4",
   "metadata": {},
   "source": [
    "## QKeras"
   ]
  },
  {
   "attachments": {},
   "cell_type": "markdown",
   "id": "f4ca37c3-f930-40dd-bcc6-add8f01be09f",
   "metadata": {},
   "source": [
    "### Create qkeras model"
   ]
  },
  {
   "cell_type": "code",
   "execution_count": 21,
   "id": "be561610-0fc1-46c3-93cf-db08ff44d962",
   "metadata": {},
   "outputs": [],
   "source": [
    "def CreateQModel(type, input_shape, kernel_size, filters):\n",
    "    # # Generate the same random values\n",
    "    # import random\n",
    "    # import numpy as np\n",
    "    # import tensorflow as tf\n",
    "\n",
    "    # random.seed(42)\n",
    "    # np.random.seed(42)\n",
    "    # tf.random.set_seed(42)\n",
    "    \n",
    "    x_in = Input(input_shape, name='q_input_1')\n",
    "    if type == 'depthwise_conv2d':\n",
    "        x_out = QDepthwiseConv2D(\n",
    "            kernel_size=kernel_size,\n",
    "            use_bias=False,\n",
    "            depthwise_initializer=tf.keras.initializers.Ones(), # makes debugging easy\n",
    "            depthwise_quantizer=quantized_bits(FXD_W, FXD_I-1, 1, alpha=1),\n",
    "            bias_quantizer=quantized_bits(FXD_W, FXD_I-1, 1, alpha=1),\n",
    "            name='q_depthwise_conv2d'\n",
    "        )(x_in)\n",
    "    elif type == 'pointwise_conv2d':\n",
    "        x_out = QConv2D(\n",
    "            kernel_size=(1,1), # 1x1 convolution\n",
    "            filters=filters,\n",
    "            use_bias=False,\n",
    "            kernel_initializer=tf.keras.initializers.Ones(), # makes debugging easy\n",
    "            kernel_quantizer=quantized_bits(FXD_W, FXD_I-1, 1, alpha=1),\n",
    "            bias_quantizer=quantized_bits(FXD_W, FXD_I-1, 1, alpha=1),\n",
    "            name='q_pointwise_conv2d'\n",
    "        )(x_in)\n",
    "    else:\n",
    "        x_out = QSeparableConv2D(\n",
    "            filters=filters,\n",
    "            kernel_size=kernel_size,\n",
    "            use_bias=False,\n",
    "            depthwise_initializer=tf.keras.initializers.Ones(), # makes debugging easy\n",
    "            pointwise_initializer=tf.keras.initializers.Ones(), # makes debugging easy\n",
    "            depthwise_quantizer=quantized_bits(FXD_W, FXD_I-1, 1, alpha=1),\n",
    "            pointwise_quantizer=quantized_bits(FXD_W, FXD_I-1, 1, alpha=1),\n",
    "            bias_quantizer=quantized_bits(FXD_W, FXD_I-1, 1, alpha=1),\n",
    "            name='q_separable_conv2d'\n",
    "        )(x_in)\n",
    "    \n",
    "    model = Model(inputs=x_in, outputs=x_out)\n",
    "    return model"
   ]
  },
  {
   "cell_type": "code",
   "execution_count": 22,
   "id": "a05a72da-ac08-403e-b1a0-bcebe53a3253",
   "metadata": {},
   "outputs": [
    {
     "name": "stdout",
     "output_type": "stream",
     "text": [
      "WARNING:tensorflow:From /home/users/russelld/micromamba/envs/sepConv2d/lib/python3.10/site-packages/tensorflow/python/autograph/pyct/static_analysis/liveness.py:83: Analyzer.lamba_check (from tensorflow.python.autograph.pyct.static_analysis.liveness) is deprecated and will be removed after 2023-09-23.\n",
      "Instructions for updating:\n",
      "Lambda fuctions will be no more assumed to be used in the statement where they are used, or at least in the same block. https://github.com/tensorflow/tensorflow/issues/56089\n",
      "Model: \"model_1\"\n",
      "_________________________________________________________________\n",
      " Layer (type)                Output Shape              Param #   \n",
      "=================================================================\n",
      " q_input_1 (InputLayer)      [(None, 5, 6, 1)]         0         \n",
      "                                                                 \n",
      " q_depthwise_conv2d (QDepthw  (None, 3, 4, 1)          9         \n",
      " iseConv2D)                                                      \n",
      "                                                                 \n",
      "=================================================================\n",
      "Total params: 9\n",
      "Trainable params: 9\n",
      "Non-trainable params: 0\n",
      "_________________________________________________________________\n"
     ]
    }
   ],
   "source": [
    "qmodel = CreateQModel(LAYER, input_shape=(H,W,Din), kernel_size=(Fh, Fw), filters=Dout)\n",
    "qmodel.summary()"
   ]
  },
  {
   "attachments": {},
   "cell_type": "markdown",
   "id": "2223b492-ca78-4bb1-9389-644a095e6035",
   "metadata": {},
   "source": [
    "### Show qkeras weights"
   ]
  },
  {
   "cell_type": "code",
   "execution_count": 23,
   "id": "232ee0dd-6caf-4524-9f64-7ba6cd9c4598",
   "metadata": {},
   "outputs": [
    {
     "name": "stdout",
     "output_type": "stream",
     "text": [
      "Weights 0:\n",
      "(3, 3, 1, 1)\n",
      "[1. 1. 1. 1. 1. 1. 1. 1. 1.]\n",
      "-----------\n"
     ]
    }
   ],
   "source": [
    "# Print the weights on console\n",
    "#N_WEIGHTS = 10\n",
    "\n",
    "# Backup print options\n",
    "bkp_threshold = np.get_printoptions()['threshold']\n",
    "bkp_linewidth = np.get_printoptions()['linewidth']\n",
    "\n",
    "# Set print options\n",
    "np.set_printoptions(threshold=np.inf, linewidth=np.inf)\n",
    "\n",
    "qweights = qmodel.get_weights()\n",
    "for i, w in enumerate(qweights):\n",
    "    print(f\"Weights {i}:\")\n",
    "    print(w.shape)\n",
    "    #print(w)\n",
    "    print(w.flatten())\n",
    "    print(\"-----------\")\n",
    "\n",
    "# Restore print options\n",
    "np.set_printoptions(threshold=bkp_threshold, linewidth=bkp_linewidth)"
   ]
  },
  {
   "attachments": {},
   "cell_type": "markdown",
   "id": "b041e0a7-8be7-43ee-93de-716ca2391be9",
   "metadata": {},
   "source": [
    "### Show qkeras model"
   ]
  },
  {
   "cell_type": "code",
   "execution_count": 24,
   "id": "f1962999-bbc5-4e2a-9da5-0d6b91c474a1",
   "metadata": {},
   "outputs": [
    {
     "data": {
      "image/png": "[encoded data removed]",
      "text/plain": [
       "<IPython.core.display.Image object>"
      ]
     },
     "execution_count": 24,
     "metadata": {},
     "output_type": "execute_result"
    }
   ],
   "source": [
    "from tensorflow.keras.utils import plot_model\n",
    "plot_model(qmodel, to_file='qkeras_model.png', show_shapes=True, show_layer_names=True, expand_nested=True)#, show_layer_activations=True)\n",
    "#import hls4ml\n",
    "#hls4ml.utils.plot.plot_model(qmodel, show_layer_names=True, show_precision=False, show_shapes=True, to_file='qkeras_model.png')"
   ]
  },
  {
   "cell_type": "code",
   "execution_count": 25,
   "id": "f6831aa7-206a-4735-961f-6f233f5e8275",
   "metadata": {},
   "outputs": [
    {
     "name": "stdout",
     "output_type": "stream",
     "text": [
      "WARNING:tensorflow:From /home/users/russelld/micromamba/envs/sepConv2d/lib/python3.10/site-packages/qkeras/estimate.py:345: Tensor.experimental_ref (from tensorflow.python.framework.ops) is deprecated and will be removed in a future version.\n",
      "Instructions for updating:\n",
      "Use ref() instead.\n"
     ]
    },
    {
     "name": "stderr",
     "output_type": "stream",
     "text": [
      "WARNING:tensorflow:From /home/users/russelld/micromamba/envs/sepConv2d/lib/python3.10/site-packages/qkeras/estimate.py:345: Tensor.experimental_ref (from tensorflow.python.framework.ops) is deprecated and will be removed in a future version.\n",
      "Instructions for updating:\n",
      "Use ref() instead.\n"
     ]
    },
    {
     "name": "stdout",
     "output_type": "stream",
     "text": [
      "\n",
      "Number of operations in model:\n",
      "    q_depthwise_conv2d            : 108   (smult_12_8)\n",
      "\n",
      "Number of operation types in model:\n",
      "    smult_12_8                    : 108\n",
      "\n",
      "Weight profiling:\n",
      "    q_depthwise_conv2d_weights     : 9     (12-bit unit)\n",
      "    q_depthwise_conv2d_bias        : 0     (12-bit unit)\n",
      "\n",
      "Weight sparsity:\n",
      "... quantizing model\n",
      "    q_depthwise_conv2d             : 0.0000\n",
      "    ----------------------------------------\n",
      "    Total Sparsity                 : 0.0000\n"
     ]
    }
   ],
   "source": [
    "print_qstats(qmodel)"
   ]
  },
  {
   "attachments": {},
   "cell_type": "markdown",
   "id": "0f44f1bf-3549-40e6-a32d-052e79847d96",
   "metadata": {},
   "source": [
    "## hls4ml"
   ]
  },
  {
   "attachments": {},
   "cell_type": "markdown",
   "id": "b60e5bb3-cfbe-45e5-92ca-a312d4b230c6",
   "metadata": {},
   "source": [
    "### Configure hls4ml model"
   ]
  },
  {
   "cell_type": "code",
   "execution_count": 26,
   "id": "52098a4a-17db-48e7-a872-55de8908407b",
   "metadata": {},
   "outputs": [
    {
     "name": "stdout",
     "output_type": "stream",
     "text": [
      "WARN: Unable to import optimizer(s) from expr_templates.py: No module named 'sympy'\n",
      "WARNING: Failed to import handlers from convolution.py: No module named 'torch'.\n",
      "WARNING: Failed to import handlers from core.py: No module named 'torch'.\n",
      "WARNING: Failed to import handlers from merge.py: No module named 'torch'.\n",
      "WARNING: Failed to import handlers from pooling.py: No module named 'torch'.\n",
      "WARNING: Failed to import handlers from reshape.py: No module named 'torch'.\n"
     ]
    },
    {
     "name": "stderr",
     "output_type": "stream",
     "text": [
      "/home/users/russelld/SepConv2D_hls4ml/hls4ml/hls4ml/converters/__init__.py:27: UserWarning: WARNING: Pytorch converter is not enabled!\n",
      "  warnings.warn(\"WARNING: Pytorch converter is not enabled!\", stacklevel=1)\n"
     ]
    }
   ],
   "source": [
    "import hls4ml.utils\n",
    "import hls4ml.converters"
   ]
  },
  {
   "cell_type": "code",
   "execution_count": 27,
   "id": "8f62ee5a-b7b8-4d57-b49d-a4e099b3ac38",
   "metadata": {
    "slideshow": {
     "slide_type": ""
    },
    "tags": []
   },
   "outputs": [
    {
     "name": "stdout",
     "output_type": "stream",
     "text": [
      "Interpreting Model\n",
      "Topology:\n",
      "Layer name: q_input_1, layer type: InputLayer, input shapes: [[None, 5, 6, 1]], output shape: [None, 5, 6, 1]\n",
      "Layer name: q_depthwise_conv2d, layer type: QDepthwiseConv2D, input shapes: [[None, 5, 6, 1]], output shape: [None, 3, 4, 1]\n",
      "Interpreting Model\n",
      "Topology:\n",
      "Layer name: q_input_1, layer type: InputLayer, input shapes: [[None, 5, 6, 1]], output shape: [None, 5, 6, 1]\n",
      "Layer name: q_depthwise_conv2d, layer type: QDepthwiseConv2D, input shapes: [[None, 5, 6, 1]], output shape: [None, 3, 4, 1]\n",
      "Creating HLS model\n",
      "WARNING: Layer q_depthwise_conv2d requires \"dataflow\" pipeline style. Switching to \"dataflow\" pipeline style.\n",
      "Writing HLS project\n",
      "WARNING:tensorflow:Compiled the loaded model, but the compiled metrics have yet to be built. `model.compile_metrics` will be empty until you train or evaluate the model.\n"
     ]
    },
    {
     "name": "stderr",
     "output_type": "stream",
     "text": [
      "WARNING:tensorflow:Compiled the loaded model, but the compiled metrics have yet to be built. `model.compile_metrics` will be empty until you train or evaluate the model.\n"
     ]
    },
    {
     "name": "stdout",
     "output_type": "stream",
     "text": [
      "Done\n"
     ]
    }
   ],
   "source": [
    "config = hls4ml.utils.config_from_keras_model(\n",
    "    qmodel, \n",
    "    granularity='name',\n",
    "    default_precision='fixed<{},{}>'.format(FXD_W, FXD_I)\n",
    ")\n",
    "config['LayerName']['q_input_1']['Precision']['result'] = 'fixed<{},{}>'.format(FXD_W, FXD_I)\n",
    "\n",
    "config['Model']['Strategy'] = STRATEGY\n",
    "#config['Model']['Strategy'] = 'Resource'\n",
    "\n",
    "hls_model = hls4ml.converters.convert_from_keras_model(\n",
    "    qmodel, \n",
    "    hls_config=config, \n",
    "    output_dir='{}_{}_{}_{}_notrace_hls4ml_prj'.format(BACKEND.lower(), LAYER.lower(), STRATEGY.lower(), IO_TYPE.lower()), \n",
    "    part='xcu250-figd2104-2L-e',\n",
    "    backend=BACKEND,\n",
    "    io_type=IO_TYPE\n",
    ")\n",
    "\n",
    "hls_model.compile()"
   ]
  },
  {
   "cell_type": "code",
   "execution_count": null,
   "id": "d8f40ebf",
   "metadata": {},
   "outputs": [],
   "source": []
  },
  {
   "cell_type": "code",
   "execution_count": 28,
   "id": "6752fc96-46de-48c8-9127-61251fd5bb0c",
   "metadata": {
    "scrolled": true,
    "slideshow": {
     "slide_type": ""
    },
    "tags": []
   },
   "outputs": [],
   "source": [
    "# print(pyaml.dump(config))"
   ]
  },
  {
   "attachments": {},
   "cell_type": "markdown",
   "id": "d1dfb700-10ec-4ac3-8c4d-0238edf15243",
   "metadata": {},
   "source": [
    "### Run qkeras and hls4ml simulation"
   ]
  },
  {
   "cell_type": "code",
   "execution_count": 29,
   "id": "69c929e0-4690-4558-87d4-b74cdd02c9b1",
   "metadata": {
    "scrolled": true
   },
   "outputs": [
    {
     "name": "stdout",
     "output_type": "stream",
     "text": [
      "Enable tracing for layer: q_input_1\n",
      "Enable tracing for layer: q_depthwise_conv2d\n",
      "Enable tracing for layer: q_depthwise_conv2d_linear\n",
      "Interpreting Model\n",
      "Topology:\n",
      "Layer name: q_input_1, layer type: InputLayer, input shapes: [[None, 5, 6, 1]], output shape: [None, 5, 6, 1]\n",
      "Layer name: q_depthwise_conv2d, layer type: QDepthwiseConv2D, input shapes: [[None, 5, 6, 1]], output shape: [None, 3, 4, 1]\n",
      "Creating HLS model\n",
      "WARNING: Layer q_depthwise_conv2d requires \"dataflow\" pipeline style. Switching to \"dataflow\" pipeline style.\n",
      "Writing HLS project\n",
      "WARNING:tensorflow:Compiled the loaded model, but the compiled metrics have yet to be built. `model.compile_metrics` will be empty until you train or evaluate the model.\n"
     ]
    },
    {
     "name": "stderr",
     "output_type": "stream",
     "text": [
      "WARNING:tensorflow:Compiled the loaded model, but the compiled metrics have yet to be built. `model.compile_metrics` will be empty until you train or evaluate the model.\n"
     ]
    },
    {
     "name": "stdout",
     "output_type": "stream",
     "text": [
      "Done\n"
     ]
    }
   ],
   "source": [
    "# Set a seed to have the same input traces on every run\n",
    "np.random.seed(42)\n",
    "\n",
    "toy_data = np.random.rand(B,H,W,Din)\n",
    "\n",
    "for i in range(B):\n",
    "    for h in range(H):\n",
    "        for w in range(W):\n",
    "            for d in range(Din):\n",
    "                toy_data[i][h][w][d] = h + w + d\n",
    "\n",
    "q_toy_data = quantized_bits(FXD_W, FXD_I-1, alpha=1)(toy_data).numpy()\n",
    "\n",
    "# Enable tracing for all of the layers\n",
    "for layer in config['LayerName'].keys():\n",
    "    print('Enable tracing for layer:', layer)\n",
    "    config['LayerName'][layer]['Trace'] = True\n",
    "\n",
    "hmodel = hls4ml.converters.convert_from_keras_model(\n",
    "    qmodel,\n",
    "    hls_config=config,\n",
    "    output_dir='{}_{}_{}_{}_trace_hls4ml_prj'.format(BACKEND.lower(), LAYER.lower(), STRATEGY.lower(), IO_TYPE.lower()),\n",
    "    part='xcu250-figd2104-2L-e',\n",
    "    io_type=IO_TYPE,\n",
    ")\n",
    "hmodel.compile()\n",
    "\n",
    "# Run tracing on the test set for the hls4ml model (fixed-point precision) \n",
    "#hls4ml_pred, hls4ml_trace = hmodel.trace(q_toy_data)\n",
    "\n",
    "# Run tracing on a portion of the test set for the Keras model (floating-point precision)\n",
    "#keras_trace = hls4ml.model.profiling.get_ymodel_keras(qmodel, q_toy_data)"
   ]
  },
  {
   "cell_type": "code",
   "execution_count": 30,
   "id": "f85f5c7d-c4ef-4a72-9d64-71468efe3a0b",
   "metadata": {},
   "outputs": [],
   "source": [
    "#print(keras_trace)"
   ]
  },
  {
   "cell_type": "code",
   "execution_count": 31,
   "id": "2fcd592b-38f6-4d2e-b903-ead511b12a8f",
   "metadata": {},
   "outputs": [],
   "source": [
    "# # Save inputs and expected outputs for further debugging\n",
    "# with open('{}_{}_{}_{}_trace_hls4ml_prj/tb_data/tb_input_features.dat'.format(BACKEND.lower(), LAYER.lower(), STRATEGY.lower(), IO_TYPE.lower()), 'w') as f:\n",
    "#     f.write(' '.join(map(str, toy_data[0].flatten())))\n",
    "# with open('{}_{}_{}_{}_trace_hls4ml_prj/tb_data/tb_output_predictions.dat'.format(BACKEND.lower(), LAYER.lower(), STRATEGY.lower(), IO_TYPE.lower()), 'w') as f:\n",
    "#     f.write(' '.join(map(str, keras_trace['q_{}'.format(LAYER)][0].flatten())))"
   ]
  },
  {
   "attachments": {},
   "cell_type": "markdown",
   "id": "85c658a3-8bcf-44df-8c9d-a9a6a762b4d2",
   "metadata": {},
   "source": [
    "### Show qkeras and hls4ml traces"
   ]
  },
  {
   "cell_type": "code",
   "execution_count": 32,
   "id": "f635be40-5546-4ad9-bea9-64e73321918f",
   "metadata": {},
   "outputs": [],
   "source": [
    "# # Print the traces on console\n",
    "# N_ELEMENTS=10\n",
    "\n",
    "# # Backup print options\n",
    "# bkp_threshold = np.get_printoptions()['threshold']\n",
    "# bkp_linewidth = np.get_printoptions()['linewidth']\n",
    "\n",
    "# # Set print options\n",
    "# np.set_printoptions(threshold=np.inf, linewidth=np.inf)\n",
    "\n",
    "# print('input', q_toy_data.flatten())\n",
    "# for key in hls4ml_trace.keys():\n",
    "#     print('-------')\n",
    "#     print(key, hls4ml_trace[key].shape)\n",
    "#     print('[qkeras]', key, keras_trace[key].flatten())\n",
    "#     print('[hls4ml]', key, hls4ml_trace[key].flatten())\n",
    "\n",
    "# #print(hls4ml_trace)\n",
    "# # Restore print options\n",
    "# np.set_printoptions(threshold=bkp_threshold, linewidth=bkp_linewidth)"
   ]
  },
  {
   "attachments": {},
   "cell_type": "markdown",
   "id": "694ef0d7-7af8-42fd-848f-afe57892d279",
   "metadata": {
    "slideshow": {
     "slide_type": ""
    },
    "tags": []
   },
   "source": [
    "### Plot correlation qkeras and hls4ml (Fails because of keras_trace rn)"
   ]
  },
  {
   "cell_type": "code",
   "execution_count": 33,
   "id": "ffc91078-5827-4ae8-a95e-d4208078051a",
   "metadata": {
    "slideshow": {
     "slide_type": ""
    },
    "tags": []
   },
   "outputs": [],
   "source": [
    "# # Evaluate correlation plots\n",
    "# for layer in hls4ml_trace.keys():\n",
    "#     print(layer)\n",
    "#     if '_alpha' in layer:\n",
    "#         continue\n",
    "#     plt.figure()\n",
    "#     klayer = layer\n",
    "#     if '_linear' in layer:\n",
    "#         klayer = layer.replace('_linear', '')\n",
    "#     plt.scatter(hls4ml_trace[layer].flatten(), keras_trace[klayer].flatten(), s=0.2)\n",
    "#     min_x = min(np.amin(hls4ml_trace[layer]), np.amin(keras_trace[klayer]))\n",
    "#     max_x = max(np.amax(hls4ml_trace[layer]), np.amax(keras_trace[klayer]))\n",
    "#     plt.plot([min_x, max_x], [min_x, max_x], c='gray')\n",
    "#     plt.xlabel('hls4ml {}'.format(layer))\n",
    "#     plt.ylabel('QKeras {}'.format(klayer))"
   ]
  },
  {
   "cell_type": "code",
   "execution_count": 46,
   "id": "379c9632-898f-4b03-b29f-a93fe53b67ea",
   "metadata": {},
   "outputs": [],
   "source": [
    "x = np.random.rand(B,H,W,Din)\n",
    "\n",
    "for i in range(B):\n",
    "    for h in range(H):\n",
    "        for w in range(W):\n",
    "            for d in range(Din):\n",
    "                x[i][h][w][d] = h + w + d\n",
    "\n",
    "q_x = quantized_bits(FXD_W, FXD_I-1, 1, alpha=1)(x).numpy()"
   ]
  },
  {
   "cell_type": "code",
   "execution_count": 47,
   "id": "b1af3f7d-c35c-4f37-b7a4-6b66b5b26ba9",
   "metadata": {},
   "outputs": [
    {
     "data": {
      "text/plain": [
       "array([[[[0.],\n",
       "         [1.],\n",
       "         [2.],\n",
       "         [3.],\n",
       "         [4.],\n",
       "         [5.]],\n",
       "\n",
       "        [[1.],\n",
       "         [2.],\n",
       "         [3.],\n",
       "         [4.],\n",
       "         [5.],\n",
       "         [6.]],\n",
       "\n",
       "        [[2.],\n",
       "         [3.],\n",
       "         [4.],\n",
       "         [5.],\n",
       "         [6.],\n",
       "         [7.]],\n",
       "\n",
       "        [[3.],\n",
       "         [4.],\n",
       "         [5.],\n",
       "         [6.],\n",
       "         [7.],\n",
       "         [8.]],\n",
       "\n",
       "        [[4.],\n",
       "         [5.],\n",
       "         [6.],\n",
       "         [7.],\n",
       "         [8.],\n",
       "         [9.]]]], dtype=float32)"
      ]
     },
     "execution_count": 47,
     "metadata": {},
     "output_type": "execute_result"
    }
   ],
   "source": [
    "q_x"
   ]
  },
  {
   "cell_type": "code",
   "execution_count": 49,
   "id": "0dbe2ad5-96e3-4cd1-8491-d6778a43568f",
   "metadata": {},
   "outputs": [],
   "source": [
    "y = hmodel.predict(q_x)"
   ]
  },
  {
   "attachments": {},
   "cell_type": "markdown",
   "id": "007f6c10-90ee-47e6-9c11-c91b22b17246",
   "metadata": {},
   "source": [
    "### Run HLS"
   ]
  },
  {
   "cell_type": "code",
   "execution_count": 34,
   "id": "88b4a4e2-7250-469e-8ae4-0cbf6161dc8f",
   "metadata": {
    "slideshow": {
     "slide_type": ""
    },
    "tags": []
   },
   "outputs": [],
   "source": [
    "def convert_model(keras_model,\n",
    "                  layer='layer_undef',\n",
    "                  strategy='Latency',\n",
    "                  io_type='io_stream',\n",
    "                  hls_backend='Vivado',\n",
    "                  fpga_part='xcu250-figd2104-2L-e',\n",
    "                  output_dir='{}_{}_{}_{}_{}_hls4ml_prj'\n",
    "                 ):\n",
    "\n",
    "    yaml_config = hls4ml.backends.get_backend(hls_backend).create_initial_config(\n",
    "        part=fpga_part, \n",
    "        io_type=io_type,\n",
    "    )\n",
    "    # or whatever part you want to use\n",
    "    yaml_config['Backend'] = hls_backend\n",
    "\n",
    "    yaml_config['ProjectName'] = 'smartpixels'\n",
    "    config = hls4ml.utils.config_from_keras_model(keras_model, granularity='name', default_precision='fixed<{},{}>'.format(FXD_W, FXD_I))\n",
    "    config['LayerName']['q_input_1']['Precision']['result'] = 'fixed<{},{}>'.format(FXD_W, FXD_I)\n",
    "    \n",
    "    config['Model']['Strategy'] = strategy\n",
    "    \n",
    "    yaml_config['HLSConfig'] = config\n",
    "\n",
    "    if io_type == 'io_stream' and hls_backend == 'Vivado':\n",
    "        hls4ml.model.optimizer.get_optimizer('vivado:fifo_depth_optimization').configure(profiling_fifo_depth=100_000)\n",
    "        yaml_config['HLSConfig']['Flows'] = ['vivado:fifo_depth_optimization']\n",
    "\n",
    "    yaml_config['KerasModel'] = keras_model\n",
    "    yaml_config['OutputDir'] = output_dir.format(hls_backend.lower(), layer.lower(), strategy.lower(), io_type.lower(), fpga_part.lower())\n",
    "\n",
    "    # At this point you should verify that the yaml matches the one you already have (check the output directory of the existing project)\n",
    "\n",
    "    # About 10 samples should be enough, don't put a lot since you'll wait **A LOT** of time to simulate through them\n",
    "    x = np.random.rand(B,H,W,Din)\n",
    "\n",
    "    for i in range(B):\n",
    "        for h in range(H):\n",
    "            for w in range(W):\n",
    "                for d in range(Din):\n",
    "                    x[i][h][w][d] = h + w + d\n",
    "\n",
    "    q_x = quantized_bits(FXD_W, FXD_I-1, 1, alpha=1)(x).numpy()\n",
    "\n",
    "    #q_x = quantized_bits(FXD_W, FXD_I-1, 1, alpha=1)(np.random.rand(B,H,W,Din)).numpy() # or whatever the input is\n",
    "\n",
    "    from pathlib import Path\n",
    "    Path(yaml_config['OutputDir']).mkdir(parents=True, exist_ok=True)\n",
    "\n",
    "    # We need both samples and predictions passed to the testbench for cosim to do meaningful stuff\n",
    "\n",
    "    input_data = ''\n",
    "    for sample in q_x:\n",
    "        for val in sample.flatten():\n",
    "            input_data += str(val) + ' '\n",
    "        input_data += '\\n'\n",
    "\n",
    "    input_data_path = yaml_config['OutputDir'] + '/input_data.dat'\n",
    "\n",
    "    with open(input_data_path, 'w') as f:\n",
    "        f.write(input_data.rstrip())\n",
    "    yaml_config['InputData'] = input_data_path\n",
    "\n",
    "    y = keras_model.predict(q_x)\n",
    "    output_data = ''\n",
    "    for prediction in y:\n",
    "        for val in prediction.flatten():\n",
    "            output_data += str(val) + ' '\n",
    "        output_data += '\\n'\n",
    "\n",
    "    output_data_path = yaml_config['OutputDir'] + '/output_data.dat'\n",
    "    with open(output_data_path, 'w') as f:\n",
    "        f.write(output_data.rstrip())\n",
    "    yaml_config['OutputPredictions'] = output_data_path\n",
    "\n",
    "    model = hls4ml.converters.keras_to_hls(yaml_config)\n",
    "    model.write()\n",
    "\n",
    "    # reset=True will nuke any existing synthesis, use with care\n",
    "    report = model.build(csim=False, synth=True, cosim=True, validation=False, export=True, vsynth=True, reset=True)\n",
    "    #report = model.build(csim=False, synth=False, cosim=False, validation=False, export=False, vsynth=False, reset=False)\n",
    "    report.pop('CSimResults', None) # We don't care about this, and it spams the output\n",
    "    report.pop('CosimResults', None)\n",
    "    print(report) # Print hashmap\n",
    "    return report, fpga_part"
   ]
  },
  {
   "cell_type": "code",
   "execution_count": 35,
   "id": "2a7eaed8-bd0f-4abd-a8d8-604081b7ed68",
   "metadata": {},
   "outputs": [],
   "source": [
    "import subprocess\n",
    "\n",
    "def run_command(cmd):\n",
    "    result = subprocess.run(cmd, stdout=subprocess.PIPE, stderr=subprocess.PIPE, text=True, shell=True)\n",
    "    return result.stdout, result.stderr\n",
    "\n",
    "def print_report(report, fpga_part = '?', vivado_version = '?', knobs = {}, hls = True, syn = True, cosim = True):\n",
    "    hls_results = report['CSynthesisReport']\n",
    "    syn_results = report['VivadoSynthReport']\n",
    "    cosim_results = report['CosimReport']\n",
    "    if hls:\n",
    "        print('-----------------------------------')\n",
    "        print('Vivado version: {}'.format(vivado_version))\n",
    "        print('FPGA part:      {}'.format(fpga_part))\n",
    "        print('Knobs:          {}'.format(knobs))\n",
    "        print('-----------------------------------')\n",
    "        print('HLS')\n",
    "        print('Target Clock Period:    {} ns'.format(hls_results['TargetClockPeriod']))\n",
    "        print('Estimated Clock Period: {} ns'.format(hls_results['EstimatedClockPeriod']))\n",
    "        print('Best/Worst Latency: {} / {}'.format(hls_results['BestLatency'], hls_results['WorstLatency']))\n",
    "        print('Interval Min/Max:   {} / {}'.format(hls_results['IntervalMin'], hls_results['IntervalMax']))\n",
    "        print('BRAM_18K:           {}, {:0.1f}% (Aval. {})'.format(hls_results['BRAM_18K'], float(hls_results['BRAM_18K'])*100.0/int(hls_results['AvailableBRAM_18K']), hls_results['AvailableBRAM_18K']))\n",
    "        print('DSP:                {}, {:0.1f}% (Aval. {})'.format(hls_results['DSP'], float(hls_results['DSP'])*100.0/int(hls_results['AvailableDSP']), hls_results['AvailableDSP']))\n",
    "        print('FF:                 {}, {:0.1f}% (Aval. {})'.format(hls_results['FF'], float(hls_results['FF'])*100.0/int(hls_results['AvailableFF']), hls_results['AvailableFF']))\n",
    "        print('LUT:                {}, {:0.1f}% (Aval. {})'.format(hls_results['LUT'], float(hls_results['LUT'])*100.0/int(hls_results['AvailableLUT']), hls_results['AvailableLUT']))\n",
    "        #print(\"URAM:                   {}, {} (Aval. {})\".format(hls_results['URAM'], int(hls_results['URAM'])*100.0/int(hls_results['AvailableURAM']), hls_results['AvailableURAM']))\n",
    "    if syn:\n",
    "        print('-----------------------------------')\n",
    "        print('Synthesis')\n",
    "        print('BRAM_18K:           {}, {:0.1f}% (Aval. {})'.format(syn_results['BRAM_18K'], float(syn_results['BRAM_18K'])*100.0/int(hls_results['AvailableBRAM_18K']), hls_results['AvailableBRAM_18K']))\n",
    "        print('DSP:                {}, {:0.1f}% (Aval. {})'.format(syn_results['DSP48E'], float(syn_results['DSP48E'])*100.0/int(hls_results['AvailableDSP']), hls_results['AvailableDSP']))\n",
    "        print('FF:                 {}, {:0.1f}% (Aval. {})'.format(syn_results['FF'], float(syn_results['FF'])*100.0/int(hls_results['AvailableFF']), hls_results['AvailableFF']))\n",
    "        print('LUT:                {}, {:0.1f}% (Aval. {})'.format(syn_results['LUT'], float(syn_results['LUT'])*100.0/int(hls_results['AvailableLUT']), hls_results['AvailableLUT']))\n",
    "    if syn:\n",
    "        print('-----------------------------------')\n",
    "        print('Cosimulation')\n",
    "        print('Max/Min Latency:    {} / {}'.format(cosim_results['LatencyMax'], cosim_results['LatencyMin']))\n",
    "        print('Avg Latency:        {}'.format(cosim_results['LatencyAvg']))\n",
    "        print('Max/Min Interval:   {} / {}'.format(cosim_results['IntervalMax'], cosim_results['IntervalMin']))\n",
    "        print('Avg Interval:       {}'.format(cosim_results['IntervalAvg']))\n",
    "    print('-----------------------------------')"
   ]
  },
  {
   "cell_type": "code",
   "execution_count": 36,
   "id": "ceec8e72-5a45-412b-a655-57b0d3c0d35b",
   "metadata": {},
   "outputs": [],
   "source": [
    "stdout, stderr = run_command('vivado -version')\n",
    "vivado_version = stdout.split()[1]"
   ]
  },
  {
   "cell_type": "code",
   "execution_count": 37,
   "id": "b17a91a6-37d5-4874-96a0-d06b6db5faff",
   "metadata": {},
   "outputs": [
    {
     "data": {
      "text/plain": [
       "True"
      ]
     },
     "execution_count": 37,
     "metadata": {},
     "output_type": "execute_result"
    }
   ],
   "source": [
    "RUN_HLS"
   ]
  },
  {
   "attachments": {},
   "cell_type": "markdown",
   "id": "d6de40a5-05c5-4dfd-a2b6-8bf8e6be257f",
   "metadata": {},
   "source": [
    "### Run synthesis for Alveo U250"
   ]
  },
  {
   "cell_type": "code",
   "execution_count": 50,
   "id": "d13bc4b4-3f05-4650-a969-95e6589ac93b",
   "metadata": {
    "scrolled": true,
    "slideshow": {
     "slide_type": ""
    },
    "tags": []
   },
   "outputs": [
    {
     "name": "stdout",
     "output_type": "stream",
     "text": [
      "Interpreting Model\n",
      "Topology:\n",
      "Layer name: q_input_1, layer type: InputLayer, input shapes: [[None, 5, 6, 1]], output shape: [None, 5, 6, 1]\n",
      "Layer name: q_depthwise_conv2d, layer type: QDepthwiseConv2D, input shapes: [[None, 5, 6, 1]], output shape: [None, 3, 4, 1]\n"
     ]
    },
    {
     "ename": "NotFoundError",
     "evalue": "Graph execution error:\n\nDetected at node 'model_1/q_depthwise_conv2d/depthwise' defined at (most recent call last):\n    File \"/home/users/russelld/micromamba/envs/sepConv2d/lib/python3.10/runpy.py\", line 196, in _run_module_as_main\n      return _run_code(code, main_globals, None,\n    File \"/home/users/russelld/micromamba/envs/sepConv2d/lib/python3.10/runpy.py\", line 86, in _run_code\n      exec(code, run_globals)\n    File \"/home/users/russelld/micromamba/envs/sepConv2d/lib/python3.10/site-packages/ipykernel_launcher.py\", line 17, in <module>\n      app.launch_new_instance()\n    File \"/home/users/russelld/micromamba/envs/sepConv2d/lib/python3.10/site-packages/traitlets/config/application.py\", line 1077, in launch_instance\n      app.start()\n    File \"/home/users/russelld/micromamba/envs/sepConv2d/lib/python3.10/site-packages/ipykernel/kernelapp.py\", line 737, in start\n      self.io_loop.start()\n    File \"/home/users/russelld/micromamba/envs/sepConv2d/lib/python3.10/site-packages/tornado/platform/asyncio.py\", line 195, in start\n      self.asyncio_loop.run_forever()\n    File \"/home/users/russelld/micromamba/envs/sepConv2d/lib/python3.10/asyncio/base_events.py\", line 603, in run_forever\n      self._run_once()\n    File \"/home/users/russelld/micromamba/envs/sepConv2d/lib/python3.10/asyncio/base_events.py\", line 1909, in _run_once\n      handle._run()\n    File \"/home/users/russelld/micromamba/envs/sepConv2d/lib/python3.10/asyncio/events.py\", line 80, in _run\n      self._context.run(self._callback, *self._args)\n    File \"/home/users/russelld/micromamba/envs/sepConv2d/lib/python3.10/site-packages/ipykernel/kernelbase.py\", line 524, in dispatch_queue\n      await self.process_one()\n    File \"/home/users/russelld/micromamba/envs/sepConv2d/lib/python3.10/site-packages/ipykernel/kernelbase.py\", line 513, in process_one\n      await dispatch(*args)\n    File \"/home/users/russelld/micromamba/envs/sepConv2d/lib/python3.10/site-packages/ipykernel/kernelbase.py\", line 418, in dispatch_shell\n      await result\n    File \"/home/users/russelld/micromamba/envs/sepConv2d/lib/python3.10/site-packages/ipykernel/kernelbase.py\", line 758, in execute_request\n      reply_content = await reply_content\n    File \"/home/users/russelld/micromamba/envs/sepConv2d/lib/python3.10/site-packages/ipykernel/ipkernel.py\", line 426, in do_execute\n      res = shell.run_cell(\n    File \"/home/users/russelld/micromamba/envs/sepConv2d/lib/python3.10/site-packages/ipykernel/zmqshell.py\", line 549, in run_cell\n      return super().run_cell(*args, **kwargs)\n    File \"/home/users/russelld/micromamba/envs/sepConv2d/lib/python3.10/site-packages/IPython/core/interactiveshell.py\", line 3048, in run_cell\n      result = self._run_cell(\n    File \"/home/users/russelld/micromamba/envs/sepConv2d/lib/python3.10/site-packages/IPython/core/interactiveshell.py\", line 3103, in _run_cell\n      result = runner(coro)\n    File \"/home/users/russelld/micromamba/envs/sepConv2d/lib/python3.10/site-packages/IPython/core/async_helpers.py\", line 129, in _pseudo_sync_runner\n      coro.send(None)\n    File \"/home/users/russelld/micromamba/envs/sepConv2d/lib/python3.10/site-packages/IPython/core/interactiveshell.py\", line 3308, in run_cell_async\n      has_raised = await self.run_ast_nodes(code_ast.body, cell_name,\n    File \"/home/users/russelld/micromamba/envs/sepConv2d/lib/python3.10/site-packages/IPython/core/interactiveshell.py\", line 3490, in run_ast_nodes\n      if await self.run_code(code, result, async_=asy):\n    File \"/home/users/russelld/micromamba/envs/sepConv2d/lib/python3.10/site-packages/IPython/core/interactiveshell.py\", line 3550, in run_code\n      exec(code_obj, self.user_global_ns, self.user_ns)\n    File \"/tmp/ipykernel_1035725/1890756911.py\", line 1, in <module>\n      get_ipython().run_cell_magic('time', '', \"if (RUN_HLS):\\n    report, fpga_part = convert_model(qmodel,                                    \\n                                      layer=LAYER,\\n                                      strategy=STRATEGY,\\n                                      io_type=IO_TYPE,\\n                                      hls_backend=BACKEND,\\n                                      fpga_part='xcu250-figd2104-2L-e',\\n                                      output_dir='{}_{}_{}_{}_{}_hls4ml_prj'\\n                                     )\\n\")\n    File \"/home/users/russelld/micromamba/envs/sepConv2d/lib/python3.10/site-packages/IPython/core/interactiveshell.py\", line 2517, in run_cell_magic\n      result = fn(*args, **kwargs)\n    File \"/home/users/russelld/micromamba/envs/sepConv2d/lib/python3.10/site-packages/IPython/core/magics/execution.py\", line 1340, in time\n      exec(code, glob, local_ns)\n    File \"<timed exec>\", line 2, in <module>\n    File \"/tmp/ipykernel_1035725/1244092923.py\", line 64, in convert_model\n      y = keras_model.predict(q_x)\n    File \"/home/users/russelld/micromamba/envs/sepConv2d/lib/python3.10/site-packages/keras/utils/traceback_utils.py\", line 65, in error_handler\n      return fn(*args, **kwargs)\n    File \"/home/users/russelld/micromamba/envs/sepConv2d/lib/python3.10/site-packages/keras/engine/training.py\", line 2350, in predict\n      tmp_batch_outputs = self.predict_function(iterator)\n    File \"/home/users/russelld/micromamba/envs/sepConv2d/lib/python3.10/site-packages/keras/engine/training.py\", line 2137, in predict_function\n      return step_function(self, iterator)\n    File \"/home/users/russelld/micromamba/envs/sepConv2d/lib/python3.10/site-packages/keras/engine/training.py\", line 2123, in step_function\n      outputs = model.distribute_strategy.run(run_step, args=(data,))\n    File \"/home/users/russelld/micromamba/envs/sepConv2d/lib/python3.10/site-packages/keras/engine/training.py\", line 2111, in run_step\n      outputs = model.predict_step(data)\n    File \"/home/users/russelld/micromamba/envs/sepConv2d/lib/python3.10/site-packages/keras/engine/training.py\", line 2079, in predict_step\n      return self(x, training=False)\n    File \"/home/users/russelld/micromamba/envs/sepConv2d/lib/python3.10/site-packages/keras/utils/traceback_utils.py\", line 65, in error_handler\n      return fn(*args, **kwargs)\n    File \"/home/users/russelld/micromamba/envs/sepConv2d/lib/python3.10/site-packages/keras/engine/training.py\", line 561, in __call__\n      return super().__call__(*args, **kwargs)\n    File \"/home/users/russelld/micromamba/envs/sepConv2d/lib/python3.10/site-packages/keras/utils/traceback_utils.py\", line 65, in error_handler\n      return fn(*args, **kwargs)\n    File \"/home/users/russelld/micromamba/envs/sepConv2d/lib/python3.10/site-packages/keras/engine/base_layer.py\", line 1132, in __call__\n      outputs = call_fn(inputs, *args, **kwargs)\n    File \"/home/users/russelld/micromamba/envs/sepConv2d/lib/python3.10/site-packages/keras/utils/traceback_utils.py\", line 96, in error_handler\n      return fn(*args, **kwargs)\n    File \"/home/users/russelld/micromamba/envs/sepConv2d/lib/python3.10/site-packages/keras/engine/functional.py\", line 511, in call\n      return self._run_internal_graph(inputs, training=training, mask=mask)\n    File \"/home/users/russelld/micromamba/envs/sepConv2d/lib/python3.10/site-packages/keras/engine/functional.py\", line 668, in _run_internal_graph\n      outputs = node.layer(*args, **kwargs)\n    File \"/home/users/russelld/micromamba/envs/sepConv2d/lib/python3.10/site-packages/keras/utils/traceback_utils.py\", line 65, in error_handler\n      return fn(*args, **kwargs)\n    File \"/home/users/russelld/micromamba/envs/sepConv2d/lib/python3.10/site-packages/keras/engine/base_layer.py\", line 1132, in __call__\n      outputs = call_fn(inputs, *args, **kwargs)\n    File \"/home/users/russelld/micromamba/envs/sepConv2d/lib/python3.10/site-packages/keras/utils/traceback_utils.py\", line 96, in error_handler\n      return fn(*args, **kwargs)\n    File \"/home/users/russelld/micromamba/envs/sepConv2d/lib/python3.10/site-packages/qkeras/qconvolutional.py\", line 984, in call\n      outputs = tf.keras.backend.depthwise_conv2d(\n    File \"/home/users/russelld/micromamba/envs/sepConv2d/lib/python3.10/site-packages/keras/backend.py\", line 6318, in depthwise_conv2d\n      x = tf.compat.v1.nn.depthwise_conv2d(\nNode: 'model_1/q_depthwise_conv2d/depthwise'\nNo algorithm worked!  Error messages:\n  Profiling failure on CUDNN engine eng1{}: UNKNOWN: CUDNN_STATUS_ALLOC_FAILED\nin tensorflow/compiler/xla/stream_executor/cuda/cuda_dnn.cc(4649): 'status'\n  Profiling failure on CUDNN engine eng28{}: UNKNOWN: CUDNN_STATUS_ALLOC_FAILED\nin tensorflow/compiler/xla/stream_executor/cuda/cuda_dnn.cc(4649): 'status'\n  Profiling failure on CUDNN engine eng0{}: UNKNOWN: CUDNN_STATUS_ALLOC_FAILED\nin tensorflow/compiler/xla/stream_executor/cuda/cuda_dnn.cc(4649): 'status'\n  Profiling failure on CUDNN engine eng28{k2=1,k3=0}: UNKNOWN: CUDNN_STATUS_ALLOC_FAILED\nin tensorflow/compiler/xla/stream_executor/cuda/cuda_dnn.cc(4649): 'status'\n  Profiling failure on CUDNN engine eng12{k5=1,k6=0,k7=1,k10=1}: UNKNOWN: CUDNN_STATUS_ALLOC_FAILED\nin tensorflow/compiler/xla/stream_executor/cuda/cuda_dnn.cc(4649): 'status'\n  Profiling failure on CUDNN engine eng12{k5=1,k6=0,k7=1,k10=0}: UNKNOWN: CUDNN_STATUS_ALLOC_FAILED\nin tensorflow/compiler/xla/stream_executor/cuda/cuda_dnn.cc(4649): 'status'\n  Profiling failure on CUDNN engine eng42{k2=2,k4=1,k5=0,k6=0,k7=0}: UNKNOWN: CUDNN_STATUS_EXECUTION_FAILED\nin tensorflow/compiler/xla/stream_executor/cuda/cuda_dnn.cc(4649): 'status'\n  Profiling failure on CUDNN engine eng6{}: UNKNOWN: CUDNN_STATUS_INTERNAL_ERROR\nin tensorflow/compiler/xla/stream_executor/cuda/cuda_dnn.cc(4649): 'status'\n  Profiling failure on CUDNN engine eng42{k2=2,k4=2,k5=0,k6=0,k7=0}: UNKNOWN: CUDNN_STATUS_EXECUTION_FAILED\nin tensorflow/compiler/xla/stream_executor/cuda/cuda_dnn.cc(4649): 'status'\n  Profiling failure on CUDNN engine eng42{k2=0,k4=1,k5=1,k6=0,k7=0}: UNKNOWN: CUDNN_STATUS_EXECUTION_FAILED\nin tensorflow/compiler/xla/stream_executor/cuda/cuda_dnn.cc(4649): 'status'\n  Profiling failure on CUDNN engine eng3{k11=2}: UNKNOWN: CUDNN_STATUS_ALLOC_FAILED\nin tensorflow/compiler/xla/stream_executor/cuda/cuda_dnn.cc(4649): 'status'\n  Profiling failure on CUDNN engine eng4{}: UNKNOWN: CUDNN_STATUS_INTERNAL_ERROR\nin tensorflow/compiler/xla/stream_executor/cuda/cuda_dnn.cc(4649): 'status'\n\t [[{{node model_1/q_depthwise_conv2d/depthwise}}]] [Op:__inference_predict_function_398]",
     "output_type": "error",
     "traceback": [
      "\u001b[0;31m---------------------------------------------------------------------------\u001b[0m",
      "\u001b[0;31mNotFoundError\u001b[0m                             Traceback (most recent call last)",
      "File \u001b[0;32m<timed exec>:2\u001b[0m\n",
      "Cell \u001b[0;32mIn[34], line 64\u001b[0m, in \u001b[0;36mconvert_model\u001b[0;34m(keras_model, layer, strategy, io_type, hls_backend, fpga_part, output_dir)\u001b[0m\n\u001b[1;32m     61\u001b[0m     f\u001b[38;5;241m.\u001b[39mwrite(input_data\u001b[38;5;241m.\u001b[39mrstrip())\n\u001b[1;32m     62\u001b[0m yaml_config[\u001b[38;5;124m'\u001b[39m\u001b[38;5;124mInputData\u001b[39m\u001b[38;5;124m'\u001b[39m] \u001b[38;5;241m=\u001b[39m input_data_path\n\u001b[0;32m---> 64\u001b[0m y \u001b[38;5;241m=\u001b[39m \u001b[43mkeras_model\u001b[49m\u001b[38;5;241;43m.\u001b[39;49m\u001b[43mpredict\u001b[49m\u001b[43m(\u001b[49m\u001b[43mq_x\u001b[49m\u001b[43m)\u001b[49m\n\u001b[1;32m     65\u001b[0m output_data \u001b[38;5;241m=\u001b[39m \u001b[38;5;124m'\u001b[39m\u001b[38;5;124m'\u001b[39m\n\u001b[1;32m     66\u001b[0m \u001b[38;5;28;01mfor\u001b[39;00m prediction \u001b[38;5;129;01min\u001b[39;00m y:\n",
      "File \u001b[0;32m~/micromamba/envs/sepConv2d/lib/python3.10/site-packages/keras/utils/traceback_utils.py:70\u001b[0m, in \u001b[0;36mfilter_traceback.<locals>.error_handler\u001b[0;34m(*args, **kwargs)\u001b[0m\n\u001b[1;32m     67\u001b[0m     filtered_tb \u001b[38;5;241m=\u001b[39m _process_traceback_frames(e\u001b[38;5;241m.\u001b[39m__traceback__)\n\u001b[1;32m     68\u001b[0m     \u001b[38;5;66;03m# To get the full stack trace, call:\u001b[39;00m\n\u001b[1;32m     69\u001b[0m     \u001b[38;5;66;03m# `tf.debugging.disable_traceback_filtering()`\u001b[39;00m\n\u001b[0;32m---> 70\u001b[0m     \u001b[38;5;28;01mraise\u001b[39;00m e\u001b[38;5;241m.\u001b[39mwith_traceback(filtered_tb) \u001b[38;5;28;01mfrom\u001b[39;00m \u001b[38;5;28;01mNone\u001b[39;00m\n\u001b[1;32m     71\u001b[0m \u001b[38;5;28;01mfinally\u001b[39;00m:\n\u001b[1;32m     72\u001b[0m     \u001b[38;5;28;01mdel\u001b[39;00m filtered_tb\n",
      "File \u001b[0;32m~/micromamba/envs/sepConv2d/lib/python3.10/site-packages/tensorflow/python/eager/execute.py:52\u001b[0m, in \u001b[0;36mquick_execute\u001b[0;34m(op_name, num_outputs, inputs, attrs, ctx, name)\u001b[0m\n\u001b[1;32m     50\u001b[0m \u001b[38;5;28;01mtry\u001b[39;00m:\n\u001b[1;32m     51\u001b[0m   ctx\u001b[38;5;241m.\u001b[39mensure_initialized()\n\u001b[0;32m---> 52\u001b[0m   tensors \u001b[38;5;241m=\u001b[39m pywrap_tfe\u001b[38;5;241m.\u001b[39mTFE_Py_Execute(ctx\u001b[38;5;241m.\u001b[39m_handle, device_name, op_name,\n\u001b[1;32m     53\u001b[0m                                       inputs, attrs, num_outputs)\n\u001b[1;32m     54\u001b[0m \u001b[38;5;28;01mexcept\u001b[39;00m core\u001b[38;5;241m.\u001b[39m_NotOkStatusException \u001b[38;5;28;01mas\u001b[39;00m e:\n\u001b[1;32m     55\u001b[0m   \u001b[38;5;28;01mif\u001b[39;00m name \u001b[38;5;129;01mis\u001b[39;00m \u001b[38;5;129;01mnot\u001b[39;00m \u001b[38;5;28;01mNone\u001b[39;00m:\n",
      "\u001b[0;31mNotFoundError\u001b[0m: Graph execution error:\n\nDetected at node 'model_1/q_depthwise_conv2d/depthwise' defined at (most recent call last):\n    File \"/home/users/russelld/micromamba/envs/sepConv2d/lib/python3.10/runpy.py\", line 196, in _run_module_as_main\n      return _run_code(code, main_globals, None,\n    File \"/home/users/russelld/micromamba/envs/sepConv2d/lib/python3.10/runpy.py\", line 86, in _run_code\n      exec(code, run_globals)\n    File \"/home/users/russelld/micromamba/envs/sepConv2d/lib/python3.10/site-packages/ipykernel_launcher.py\", line 17, in <module>\n      app.launch_new_instance()\n    File \"/home/users/russelld/micromamba/envs/sepConv2d/lib/python3.10/site-packages/traitlets/config/application.py\", line 1077, in launch_instance\n      app.start()\n    File \"/home/users/russelld/micromamba/envs/sepConv2d/lib/python3.10/site-packages/ipykernel/kernelapp.py\", line 737, in start\n      self.io_loop.start()\n    File \"/home/users/russelld/micromamba/envs/sepConv2d/lib/python3.10/site-packages/tornado/platform/asyncio.py\", line 195, in start\n      self.asyncio_loop.run_forever()\n    File \"/home/users/russelld/micromamba/envs/sepConv2d/lib/python3.10/asyncio/base_events.py\", line 603, in run_forever\n      self._run_once()\n    File \"/home/users/russelld/micromamba/envs/sepConv2d/lib/python3.10/asyncio/base_events.py\", line 1909, in _run_once\n      handle._run()\n    File \"/home/users/russelld/micromamba/envs/sepConv2d/lib/python3.10/asyncio/events.py\", line 80, in _run\n      self._context.run(self._callback, *self._args)\n    File \"/home/users/russelld/micromamba/envs/sepConv2d/lib/python3.10/site-packages/ipykernel/kernelbase.py\", line 524, in dispatch_queue\n      await self.process_one()\n    File \"/home/users/russelld/micromamba/envs/sepConv2d/lib/python3.10/site-packages/ipykernel/kernelbase.py\", line 513, in process_one\n      await dispatch(*args)\n    File \"/home/users/russelld/micromamba/envs/sepConv2d/lib/python3.10/site-packages/ipykernel/kernelbase.py\", line 418, in dispatch_shell\n      await result\n    File \"/home/users/russelld/micromamba/envs/sepConv2d/lib/python3.10/site-packages/ipykernel/kernelbase.py\", line 758, in execute_request\n      reply_content = await reply_content\n    File \"/home/users/russelld/micromamba/envs/sepConv2d/lib/python3.10/site-packages/ipykernel/ipkernel.py\", line 426, in do_execute\n      res = shell.run_cell(\n    File \"/home/users/russelld/micromamba/envs/sepConv2d/lib/python3.10/site-packages/ipykernel/zmqshell.py\", line 549, in run_cell\n      return super().run_cell(*args, **kwargs)\n    File \"/home/users/russelld/micromamba/envs/sepConv2d/lib/python3.10/site-packages/IPython/core/interactiveshell.py\", line 3048, in run_cell\n      result = self._run_cell(\n    File \"/home/users/russelld/micromamba/envs/sepConv2d/lib/python3.10/site-packages/IPython/core/interactiveshell.py\", line 3103, in _run_cell\n      result = runner(coro)\n    File \"/home/users/russelld/micromamba/envs/sepConv2d/lib/python3.10/site-packages/IPython/core/async_helpers.py\", line 129, in _pseudo_sync_runner\n      coro.send(None)\n    File \"/home/users/russelld/micromamba/envs/sepConv2d/lib/python3.10/site-packages/IPython/core/interactiveshell.py\", line 3308, in run_cell_async\n      has_raised = await self.run_ast_nodes(code_ast.body, cell_name,\n    File \"/home/users/russelld/micromamba/envs/sepConv2d/lib/python3.10/site-packages/IPython/core/interactiveshell.py\", line 3490, in run_ast_nodes\n      if await self.run_code(code, result, async_=asy):\n    File \"/home/users/russelld/micromamba/envs/sepConv2d/lib/python3.10/site-packages/IPython/core/interactiveshell.py\", line 3550, in run_code\n      exec(code_obj, self.user_global_ns, self.user_ns)\n    File \"/tmp/ipykernel_1035725/1890756911.py\", line 1, in <module>\n      get_ipython().run_cell_magic('time', '', \"if (RUN_HLS):\\n    report, fpga_part = convert_model(qmodel,                                    \\n                                      layer=LAYER,\\n                                      strategy=STRATEGY,\\n                                      io_type=IO_TYPE,\\n                                      hls_backend=BACKEND,\\n                                      fpga_part='xcu250-figd2104-2L-e',\\n                                      output_dir='{}_{}_{}_{}_{}_hls4ml_prj'\\n                                     )\\n\")\n    File \"/home/users/russelld/micromamba/envs/sepConv2d/lib/python3.10/site-packages/IPython/core/interactiveshell.py\", line 2517, in run_cell_magic\n      result = fn(*args, **kwargs)\n    File \"/home/users/russelld/micromamba/envs/sepConv2d/lib/python3.10/site-packages/IPython/core/magics/execution.py\", line 1340, in time\n      exec(code, glob, local_ns)\n    File \"<timed exec>\", line 2, in <module>\n    File \"/tmp/ipykernel_1035725/1244092923.py\", line 64, in convert_model\n      y = keras_model.predict(q_x)\n    File \"/home/users/russelld/micromamba/envs/sepConv2d/lib/python3.10/site-packages/keras/utils/traceback_utils.py\", line 65, in error_handler\n      return fn(*args, **kwargs)\n    File \"/home/users/russelld/micromamba/envs/sepConv2d/lib/python3.10/site-packages/keras/engine/training.py\", line 2350, in predict\n      tmp_batch_outputs = self.predict_function(iterator)\n    File \"/home/users/russelld/micromamba/envs/sepConv2d/lib/python3.10/site-packages/keras/engine/training.py\", line 2137, in predict_function\n      return step_function(self, iterator)\n    File \"/home/users/russelld/micromamba/envs/sepConv2d/lib/python3.10/site-packages/keras/engine/training.py\", line 2123, in step_function\n      outputs = model.distribute_strategy.run(run_step, args=(data,))\n    File \"/home/users/russelld/micromamba/envs/sepConv2d/lib/python3.10/site-packages/keras/engine/training.py\", line 2111, in run_step\n      outputs = model.predict_step(data)\n    File \"/home/users/russelld/micromamba/envs/sepConv2d/lib/python3.10/site-packages/keras/engine/training.py\", line 2079, in predict_step\n      return self(x, training=False)\n    File \"/home/users/russelld/micromamba/envs/sepConv2d/lib/python3.10/site-packages/keras/utils/traceback_utils.py\", line 65, in error_handler\n      return fn(*args, **kwargs)\n    File \"/home/users/russelld/micromamba/envs/sepConv2d/lib/python3.10/site-packages/keras/engine/training.py\", line 561, in __call__\n      return super().__call__(*args, **kwargs)\n    File \"/home/users/russelld/micromamba/envs/sepConv2d/lib/python3.10/site-packages/keras/utils/traceback_utils.py\", line 65, in error_handler\n      return fn(*args, **kwargs)\n    File \"/home/users/russelld/micromamba/envs/sepConv2d/lib/python3.10/site-packages/keras/engine/base_layer.py\", line 1132, in __call__\n      outputs = call_fn(inputs, *args, **kwargs)\n    File \"/home/users/russelld/micromamba/envs/sepConv2d/lib/python3.10/site-packages/keras/utils/traceback_utils.py\", line 96, in error_handler\n      return fn(*args, **kwargs)\n    File \"/home/users/russelld/micromamba/envs/sepConv2d/lib/python3.10/site-packages/keras/engine/functional.py\", line 511, in call\n      return self._run_internal_graph(inputs, training=training, mask=mask)\n    File \"/home/users/russelld/micromamba/envs/sepConv2d/lib/python3.10/site-packages/keras/engine/functional.py\", line 668, in _run_internal_graph\n      outputs = node.layer(*args, **kwargs)\n    File \"/home/users/russelld/micromamba/envs/sepConv2d/lib/python3.10/site-packages/keras/utils/traceback_utils.py\", line 65, in error_handler\n      return fn(*args, **kwargs)\n    File \"/home/users/russelld/micromamba/envs/sepConv2d/lib/python3.10/site-packages/keras/engine/base_layer.py\", line 1132, in __call__\n      outputs = call_fn(inputs, *args, **kwargs)\n    File \"/home/users/russelld/micromamba/envs/sepConv2d/lib/python3.10/site-packages/keras/utils/traceback_utils.py\", line 96, in error_handler\n      return fn(*args, **kwargs)\n    File \"/home/users/russelld/micromamba/envs/sepConv2d/lib/python3.10/site-packages/qkeras/qconvolutional.py\", line 984, in call\n      outputs = tf.keras.backend.depthwise_conv2d(\n    File \"/home/users/russelld/micromamba/envs/sepConv2d/lib/python3.10/site-packages/keras/backend.py\", line 6318, in depthwise_conv2d\n      x = tf.compat.v1.nn.depthwise_conv2d(\nNode: 'model_1/q_depthwise_conv2d/depthwise'\nNo algorithm worked!  Error messages:\n  Profiling failure on CUDNN engine eng1{}: UNKNOWN: CUDNN_STATUS_ALLOC_FAILED\nin tensorflow/compiler/xla/stream_executor/cuda/cuda_dnn.cc(4649): 'status'\n  Profiling failure on CUDNN engine eng28{}: UNKNOWN: CUDNN_STATUS_ALLOC_FAILED\nin tensorflow/compiler/xla/stream_executor/cuda/cuda_dnn.cc(4649): 'status'\n  Profiling failure on CUDNN engine eng0{}: UNKNOWN: CUDNN_STATUS_ALLOC_FAILED\nin tensorflow/compiler/xla/stream_executor/cuda/cuda_dnn.cc(4649): 'status'\n  Profiling failure on CUDNN engine eng28{k2=1,k3=0}: UNKNOWN: CUDNN_STATUS_ALLOC_FAILED\nin tensorflow/compiler/xla/stream_executor/cuda/cuda_dnn.cc(4649): 'status'\n  Profiling failure on CUDNN engine eng12{k5=1,k6=0,k7=1,k10=1}: UNKNOWN: CUDNN_STATUS_ALLOC_FAILED\nin tensorflow/compiler/xla/stream_executor/cuda/cuda_dnn.cc(4649): 'status'\n  Profiling failure on CUDNN engine eng12{k5=1,k6=0,k7=1,k10=0}: UNKNOWN: CUDNN_STATUS_ALLOC_FAILED\nin tensorflow/compiler/xla/stream_executor/cuda/cuda_dnn.cc(4649): 'status'\n  Profiling failure on CUDNN engine eng42{k2=2,k4=1,k5=0,k6=0,k7=0}: UNKNOWN: CUDNN_STATUS_EXECUTION_FAILED\nin tensorflow/compiler/xla/stream_executor/cuda/cuda_dnn.cc(4649): 'status'\n  Profiling failure on CUDNN engine eng6{}: UNKNOWN: CUDNN_STATUS_INTERNAL_ERROR\nin tensorflow/compiler/xla/stream_executor/cuda/cuda_dnn.cc(4649): 'status'\n  Profiling failure on CUDNN engine eng42{k2=2,k4=2,k5=0,k6=0,k7=0}: UNKNOWN: CUDNN_STATUS_EXECUTION_FAILED\nin tensorflow/compiler/xla/stream_executor/cuda/cuda_dnn.cc(4649): 'status'\n  Profiling failure on CUDNN engine eng42{k2=0,k4=1,k5=1,k6=0,k7=0}: UNKNOWN: CUDNN_STATUS_EXECUTION_FAILED\nin tensorflow/compiler/xla/stream_executor/cuda/cuda_dnn.cc(4649): 'status'\n  Profiling failure on CUDNN engine eng3{k11=2}: UNKNOWN: CUDNN_STATUS_ALLOC_FAILED\nin tensorflow/compiler/xla/stream_executor/cuda/cuda_dnn.cc(4649): 'status'\n  Profiling failure on CUDNN engine eng4{}: UNKNOWN: CUDNN_STATUS_INTERNAL_ERROR\nin tensorflow/compiler/xla/stream_executor/cuda/cuda_dnn.cc(4649): 'status'\n\t [[{{node model_1/q_depthwise_conv2d/depthwise}}]] [Op:__inference_predict_function_398]"
     ]
    }
   ],
   "source": [
    "%%time \n",
    "if (RUN_HLS):\n",
    "    report, fpga_part = convert_model(qmodel,                                    \n",
    "                                      layer=LAYER,\n",
    "                                      strategy=STRATEGY,\n",
    "                                      io_type=IO_TYPE,\n",
    "                                      hls_backend=BACKEND,\n",
    "                                      fpga_part='xcu250-figd2104-2L-e',\n",
    "                                      output_dir='{}_{}_{}_{}_{}_hls4ml_prj'\n",
    "                                     )"
   ]
  },
  {
   "cell_type": "code",
   "execution_count": 39,
   "id": "95e80636-250f-452b-8b34-f48267654919",
   "metadata": {},
   "outputs": [
    {
     "ename": "NameError",
     "evalue": "name 'report' is not defined",
     "output_type": "error",
     "traceback": [
      "\u001b[0;31m---------------------------------------------------------------------------\u001b[0m",
      "\u001b[0;31mNameError\u001b[0m                                 Traceback (most recent call last)",
      "Cell \u001b[0;32mIn[39], line 2\u001b[0m\n\u001b[1;32m      1\u001b[0m \u001b[38;5;28;01mif\u001b[39;00m (RUN_HLS):\n\u001b[0;32m----> 2\u001b[0m     print_report(\u001b[43mreport\u001b[49m,\n\u001b[1;32m      3\u001b[0m                  fpga_part\u001b[38;5;241m=\u001b[39m\u001b[38;5;124m'\u001b[39m\u001b[38;5;124mxcu250-figd2104-2L-e\u001b[39m\u001b[38;5;124m'\u001b[39m,\n\u001b[1;32m      4\u001b[0m                  vivado_version\u001b[38;5;241m=\u001b[39mvivado_version,\n\u001b[1;32m      5\u001b[0m                  knobs \u001b[38;5;241m=\u001b[39m {\u001b[38;5;124m'\u001b[39m\u001b[38;5;124mbackend\u001b[39m\u001b[38;5;124m'\u001b[39m : BACKEND, \u001b[38;5;124m'\u001b[39m\u001b[38;5;124mlayer\u001b[39m\u001b[38;5;124m'\u001b[39m :LAYER, \u001b[38;5;124m'\u001b[39m\u001b[38;5;124mio_type\u001b[39m\u001b[38;5;124m'\u001b[39m : IO_TYPE, \u001b[38;5;124m'\u001b[39m\u001b[38;5;124mstrategy\u001b[39m\u001b[38;5;124m'\u001b[39m : STRATEGY}\n\u001b[1;32m      6\u001b[0m                 )\n",
      "\u001b[0;31mNameError\u001b[0m: name 'report' is not defined"
     ]
    }
   ],
   "source": [
    "if (RUN_HLS):\n",
    "    print_report(report,\n",
    "                 fpga_part='xcu250-figd2104-2L-e',\n",
    "                 vivado_version=vivado_version,\n",
    "                 knobs = {'backend' : BACKEND, 'layer' :LAYER, 'io_type' : IO_TYPE, 'strategy' : STRATEGY}\n",
    "                )"
   ]
  },
  {
   "attachments": {},
   "cell_type": "markdown",
   "id": "39105976-e390-4fa5-9d2d-3825e1df1180",
   "metadata": {},
   "source": [
    "#### Previous results"
   ]
  },
  {
   "attachments": {},
   "cell_type": "markdown",
   "id": "2cf624a1-a512-408b-8b7b-dfc0d763fb8f",
   "metadata": {},
   "source": [
    "##### `depthwise_conv2d`"
   ]
  },
  {
   "attachments": {},
   "cell_type": "markdown",
   "id": "f6de1736-7518-4f70-bb6b-e88dfc2e3c5a",
   "metadata": {},
   "source": [
    "```\n",
    "-----------------------------------\n",
    "Vivado version: v2019.1\n",
    "FPGA part:      xcu250-figd2104-2L-e\n",
    "Knobs:          {'backend': 'Vivado', 'layer': 'depthwise_conv2d', 'io_type': 'io_parallel', 'strategy': 'Latency'}\n",
    "-----------------------------------\n",
    "HLS\n",
    "Target Clock Period:    5.00 ns\n",
    "Estimated Clock Period: 4.271 ns\n",
    "Best/Worst Latency: 5 / 6\n",
    "Interval Min/Max:   3 / 3\n",
    "BRAM_18K:           10, 0.2% (Aval. 5376)\n",
    "DSP:                0, 0.0% (Aval. 12288)\n",
    "FF:                 721, 0.0% (Aval. 3456000)\n",
    "LUT:                39898, 2.3% (Aval. 1728000)\n",
    "-----------------------------------\n",
    "Synthesis\n",
    "BRAM_18K:           0, 0.0% (Aval. 5376)\n",
    "DSP:                0, 0.0% (Aval. 12288)\n",
    "FF:                 1271, 0.0% (Aval. 3456000)\n",
    "LUT:                1628, 0.1% (Aval. 1728000)\n",
    "-----------------------------------\n",
    "Cosimulation\n",
    "Max/Min Latency:    6 / 6\n",
    "Avg Latency:        6.0\n",
    "Max/Min Interval:   0 / 0\n",
    "Avg Interval:       0.0\n",
    "-----------------------------------\n",
    "```"
   ]
  },
  {
   "attachments": {},
   "cell_type": "markdown",
   "id": "d7a87b21-315d-4ff9-beb0-2e84bd82dafa",
   "metadata": {},
   "source": [
    "##### `pointwise_conv2d`"
   ]
  },
  {
   "attachments": {},
   "cell_type": "markdown",
   "id": "63b65250-b927-4cfb-a93f-cdfdd581177f",
   "metadata": {},
   "source": [
    "```\n",
    "-----------------------------------\n",
    "Vivado version: v2019.1\n",
    "FPGA part:      xcu250-figd2104-2L-e\n",
    "Knobs:          {'backend': 'Vivado', 'layer': 'pointwise_conv2d', 'io_type': 'io_parallel', 'strategy': 'Latency'}\n",
    "Notes:          It uses conv2d\n",
    "-----------------------------------\n",
    "HLS\n",
    "Target Clock Period:    5.00 ns\n",
    "Estimated Clock Period: 4.225 ns\n",
    "Best/Worst Latency: 59 / 60\n",
    "Interval Min/Max:   60 / 60\n",
    "BRAM_18K:           0, 0.0% (Aval. 5376)\n",
    "DSP:                0, 0.0% (Aval. 12288)\n",
    "FF:                 1151, 0.0% (Aval. 3456000)\n",
    "LUT:                1387, 0.1% (Aval. 1728000)\n",
    "-----------------------------------\n",
    "Synthesis\n",
    "BRAM_18K:           0, 0.0% (Aval. 5376)\n",
    "DSP:                0, 0.0% (Aval. 12288)\n",
    "FF:                 489, 0.0% (Aval. 3456000)\n",
    "LUT:                601, 0.0% (Aval. 1728000)\n",
    "-----------------------------------\n",
    "Cosimulation\n",
    "Max/Min Latency:    60 / 60\n",
    "Avg Latency:        60.0\n",
    "Max/Min Interval:   0 / 0\n",
    "Avg Interval:       0.0\n",
    "-----------------------------------\n",
    "\n",
    "-----------------------------------\n",
    "Vivado version: v2019.1\n",
    "FPGA part:      xcu250-figd2104-2L-e\n",
    "Knobs:          {'backend': 'Vivado', 'layer': 'pointwise_conv2d', 'io_type': 'io_parallel', 'strategy': 'Latency'}\n",
    "Notes:          Custom pointwise, optimized\n",
    "-----------------------------------\n",
    "HLS\n",
    "Target Clock Period:    5.00 ns\n",
    "Estimated Clock Period: 2.679 ns\n",
    "Best/Worst Latency: 4 / 5\n",
    "Interval Min/Max:   5 / 5\n",
    "BRAM_18K:           0, 0.0% (Aval. 5376)\n",
    "DSP:                0, 0.0% (Aval. 12288)\n",
    "FF:                 726, 0.0% (Aval. 3456000)\n",
    "LUT:                10091, 0.6% (Aval. 1728000)\n",
    "-----------------------------------\n",
    "Synthesis\n",
    "BRAM_18K:           0, 0.0% (Aval. 5376)\n",
    "DSP:                0, 0.0% (Aval. 12288)\n",
    "FF:                 377, 0.0% (Aval. 3456000)\n",
    "LUT:                867, 0.1% (Aval. 1728000)\n",
    "-----------------------------------\n",
    "Cosimulation\n",
    "Max/Min Latency:    5 / 5\n",
    "Avg Latency:        5.0\n",
    "Max/Min Interval:   0 / 0\n",
    "Avg Interval:       0.0\n",
    "-----------------------------------\n",
    "```"
   ]
  },
  {
   "attachments": {},
   "cell_type": "markdown",
   "id": "56c776ec-8f89-43a0-b857-654c2e529734",
   "metadata": {},
   "source": [
    "##### `separable_conv2d`"
   ]
  },
  {
   "attachments": {},
   "cell_type": "markdown",
   "id": "3022d54a-347e-476d-aecf-efc72353d589",
   "metadata": {},
   "source": [
    "csim works, but HLS fails\n",
    "```\n",
    "ERROR: [HLS 200-70] Compilation errors found: In file included from firmware/smartpixels.cpp:1:\n",
    "firmware/smartpixels.cpp:35:2: error: no matching function for call to 'separable_conv_2d_cl'\n",
    " nnet::separable_conv_2d_cl<input_t, q_separable_conv2d_dw_out_t, result_t, config2>(q_input_1, layer2_out, d2, p2, z2, b2);\n",
    " ^~~~~~~~~~~~~~~~~~~~~~~~~~~~~~~~~~~~~~~~~~~~~~~~~~~~~~~~~~~~~~~~~~~~~~~~~~~~~~~~~~~\n",
    "firmware/nnet_utils/nnet_sepconv2d_stream.h:122:6: note: candidate function [with data_T = ap_fixed<12, 11, 5, 3, 0>, dw_res_T = ap_fixed<12, 11, 5, 3, 0>, res_T = ap_fixed<12, 11, 5, 3, 0>, CONFIG_T = config2] not viable: no known conversion from 'input_t *' (aka 'ap_fixed<12, 11> *') to 'hls::stream<ap_fixed<12, 11, 5, 3, 0> > &' for 1st argument; \n",
    "void separable_conv_2d_cl(hls::stream<data_T> &data, hls::stream<res_T> &res,\n",
    "     ^\n",
    "firmware/nnet_utils/nnet_sepconv2d.h:51:6: note: candidate template ignored: substitution failure [with data_T = ap_fixed<12, 11, 5, 3, 0>, dw_res_T = ap_fixed<12, 11, 5, 3, 0>, res_T = ap_fixed<12, 11, 5, 3, 0>, CONFIG_T = config2]\n",
    "void separable_conv_2d_cl(\n",
    "     ^\n",
    "1 error generated.\n",
    "Failed during preprocessing.\n",
    "    while executing\n",
    "\"source build_prj.tcl\"\n",
    "    (\"uplevel\" body line 1)\n",
    "    invoked from within\n",
    "\"uplevel \\#0 [list source $arg] \"\n",
    "```"
   ]
  },
  {
   "cell_type": "code",
   "execution_count": 51,
   "id": "5d4cf5be-9005-4237-bc70-a892908f1a22",
   "metadata": {},
   "outputs": [
    {
     "name": "stdout",
     "output_type": "stream",
     "text": [
      "\n",
      "****** Vivado(TM) HLS - High-Level Synthesis from C, C++ and SystemC v2019.1 (64-bit)\n",
      "  **** SW Build 2552052 on Fri May 24 14:47:09 MDT 2019\n",
      "  **** IP Build 2548770 on Fri May 24 18:01:18 MDT 2019\n",
      "    ** Copyright 1986-2019 Xilinx, Inc. All Rights Reserved.\n",
      "\n",
      "source /home/xilinx/Vivado/2019.1/scripts/vivado_hls/hls.tcl -notrace\n",
      "INFO: Applying HLS Y2K22 patch v1.2 for IP revision\n",
      "INFO: [HLS 200-10] Running '/home/xilinx/Vivado/2019.1/bin/unwrapped/lnx64.o/vivado_hls'\n",
      "INFO: [HLS 200-10] For user 'russelld' on host 'scully.physics.ucsd.edu' (Linux_x86_64 version 4.18.0-348.12.2.el8_5.x86_64) on Wed Nov 29 18:25:47 PST 2023\n",
      "INFO: [HLS 200-10] In directory '/home/users/russelld/SepConv2D_hls4ml/vivado_depthwise_conv2d_latency_io_parallel_trace_hls4ml_prj'\n",
      "Sourcing Tcl script 'build_prj.tcl'\n",
      "INFO: [HLS 200-10] Creating and opening project '/home/users/russelld/SepConv2D_hls4ml/vivado_depthwise_conv2d_latency_io_parallel_trace_hls4ml_prj/myproject_prj'.\n",
      "INFO: [HLS 200-10] Adding design file 'firmware/myproject.cpp' to the project\n",
      "INFO: [HLS 200-10] Adding test bench file 'myproject_test.cpp' to the project\n",
      "INFO: [HLS 200-10] Adding test bench file 'firmware/weights' to the project\n",
      "INFO: [HLS 200-10] Adding test bench file 'tb_data' to the project\n",
      "INFO: [HLS 200-10] Creating and opening solution '/home/users/russelld/SepConv2D_hls4ml/vivado_depthwise_conv2d_latency_io_parallel_trace_hls4ml_prj/myproject_prj/solution1'.\n",
      "INFO: [XFORM 203-101] Allowed max sub elements number after partition is 4096.\n",
      "INFO: [XFORM 203-1161] The maximum of name length is set into 80.\n",
      "INFO: [HLS 200-10] Setting target device to 'xcu250-figd2104-2L-e'\n",
      "INFO: [SYN 201-201] Setting up clock 'default' with a period of 5ns.\n",
      "INFO: [SYN 201-201] Setting up clock 'default' with an uncertainty of 0.625ns.\n",
      "***** C/RTL SYNTHESIS *****\n",
      "INFO: [SCHED 204-61] Option 'relax_ii_for_timing' is enabled, will increase II to preserve clock frequency constraints.\n",
      "INFO: [HLS 200-10] Analyzing design file 'firmware/myproject.cpp' ... \n",
      "WARNING: [HLS 214-113] Either use an argument of the function or declare the variable inside the dataflow loop body: firmware/myproject.cpp:33:80\n",
      "WARNING: [HLS 200-471] Dataflow form checks found 1 issue(s) in file firmware/myproject.cpp\n",
      "ERROR: [HLS 200-70] '#pragma HLS ARRAY_PARTITION variable=&data type=complete dim=0' is not a valid pragma.\n",
      "ERROR: [HLS 200-70] '#pragma HLS ARRAY_PARTITION variable=&res type=complete dim=0' is not a valid pragma.\n",
      "ERROR: [HLS 200-70] '#pragma HLS ARRAY_PARTITION variable=&pointwise_biases type=complete dim=0' is not a valid pragma.\n",
      "ERROR: [HLS 200-70] '#pragma HLS ARRAY_PARTITION variable=&pointwise_weights type=complete dim=0' is not a valid pragma.\n",
      "ERROR: [HLS 200-70] '#pragma HLS ARRAY_PARTITION variable=&data type=complete dim=0' is not a valid pragma.\n",
      "ERROR: [HLS 200-70] '#pragma HLS ARRAY_PARTITION variable=&res type=complete dim=0' is not a valid pragma.\n",
      "ERROR: [HLS 200-70] '#pragma HLS ARRAY_PARTITION variable=&depthwise_biases type=complete dim=0' is not a valid pragma.\n",
      "ERROR: [HLS 200-70] '#pragma HLS ARRAY_PARTITION variable=&depthwise_weights type=complete dim=0' is not a valid pragma.\n",
      "Pragma processor failed: \n",
      "    while executing\n",
      "\"source build_prj.tcl\"\n",
      "    (\"uplevel\" body line 1)\n",
      "    invoked from within\n",
      "\"uplevel \\#0 [list source $arg] \"\n",
      "\n",
      "INFO: [Common 17-206] Exiting vivado_hls at Wed Nov 29 18:25:54 2023...\n",
      "CSynthesis report not found.\n",
      "Vivado synthesis report not found.\n",
      "Cosim report not found.\n",
      "Timing report not found.\n"
     ]
    },
    {
     "data": {
      "text/plain": [
       "{}"
      ]
     },
     "execution_count": 51,
     "metadata": {},
     "output_type": "execute_result"
    }
   ],
   "source": [
    "hmodel.build(csim=False)"
   ]
  },
  {
   "cell_type": "code",
   "execution_count": null,
   "id": "77f1be8a-f987-43bd-95eb-72b9afe37657",
   "metadata": {},
   "outputs": [],
   "source": []
  }
 ],
 "metadata": {
  "kernelspec": {
   "display_name": "Python 3 (ipykernel)",
   "language": "python",
   "name": "python3"
  },
  "language_info": {
   "codemirror_mode": {
    "name": "ipython",
    "version": 3
   },
   "file_extension": ".py",
   "mimetype": "text/x-python",
   "name": "python",
   "nbconvert_exporter": "python",
   "pygments_lexer": "ipython3",
   "version": "3.10.10"
  }
 },
 "nbformat": 4,
 "nbformat_minor": 5
}
